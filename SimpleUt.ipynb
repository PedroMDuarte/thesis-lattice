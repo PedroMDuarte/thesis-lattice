{
 "metadata": {
  "name": ""
 },
 "nbformat": 3,
 "nbformat_minor": 0,
 "worksheets": [
  {
   "cells": [
    {
     "cell_type": "code",
     "collapsed": false,
     "input": [
      "#Here the interpolation data is loaded from disk\n",
      "from scipy.interpolate import interp1d\n",
      "tInterp = interp1d( np.loadtxt('banddat/interpdat_t_v0.dat'), np.loadtxt('banddat/interpdat_t_tCalc.dat'))\n",
      "\n",
      "from scipy.interpolate import interp1d\n",
      "wFInterp = interp1d( np.loadtxt('banddat/interpdat_wF_v0.dat'), np.loadtxt('banddat/interpdat_wF_wF.dat'))\n",
      "\n",
      "def U_over_t( v0, a ):\n",
      "    a0a =  5.29e-11 / (1064e-9/2.)\n",
      "    U = a*a0a*wFInterp(v0)\n",
      "    t = tInterp(v0)\n",
      "    return U/t\n",
      "\n",
      "def get_a( v0, Ut ):\n",
      "    a0a =  5.29e-11 / (1064e-9/2.)\n",
      "    t = tInterp(v0)\n",
      "    U = Ut * t\n",
      "    a = U / (a0a*wFInterp(v0))\n",
      "    return a"
     ],
     "language": "python",
     "metadata": {},
     "outputs": [],
     "prompt_number": 1
    },
    {
     "cell_type": "code",
     "collapsed": false,
     "input": [
      "tInterp(27.5)*29000"
     ],
     "language": "python",
     "metadata": {},
     "outputs": [
      {
       "metadata": {},
       "output_type": "pyout",
       "prompt_number": 29,
       "text": [
        "19.976193083418838"
       ]
      }
     ],
     "prompt_number": 29
    },
    {
     "cell_type": "code",
     "collapsed": false,
     "input": [
      "print U_over_t( 7.0, 380. )"
     ],
     "language": "python",
     "metadata": {},
     "outputs": [
      {
       "output_type": "stream",
       "stream": "stdout",
       "text": [
        "14.5128496244\n"
       ]
      }
     ],
     "prompt_number": 6
    },
    {
     "cell_type": "code",
     "collapsed": false,
     "input": [
      "print U_over_t( 8.0, 300.)"
     ],
     "language": "python",
     "metadata": {},
     "outputs": [
      {
       "output_type": "stream",
       "stream": "stdout",
       "text": [
        "16.7429860917\n"
       ]
      }
     ],
     "prompt_number": 5
    },
    {
     "cell_type": "code",
     "collapsed": false,
     "input": [
      "print U_over_t( 7.0, 480.)\n",
      "print U_over_t( 5.5, 480.)"
     ],
     "language": "python",
     "metadata": {},
     "outputs": [
      {
       "output_type": "stream",
       "stream": "stdout",
       "text": [
        "18.3320205782\n",
        "9.80097450242\n"
       ]
      }
     ],
     "prompt_number": 3
    },
    {
     "cell_type": "code",
     "collapsed": false,
     "input": [
      "tInterp(7.0)"
     ],
     "language": "python",
     "metadata": {},
     "outputs": [
      {
       "metadata": {},
       "output_type": "pyout",
       "prompt_number": 3,
       "text": [
        "array(0.039536432740995914)"
       ]
      }
     ],
     "prompt_number": 3
    },
    {
     "cell_type": "code",
     "collapsed": false,
     "input": [
      "get_a( 5.5, 1.636)"
     ],
     "language": "python",
     "metadata": {},
     "outputs": [
      {
       "output_type": "pyout",
       "prompt_number": 10,
       "text": [
        "80.122644927434933"
       ]
      }
     ],
     "prompt_number": 10
    },
    {
     "cell_type": "code",
     "collapsed": false,
     "input": [
      "U_over_t( 7., 350. )\n"
     ],
     "language": "python",
     "metadata": {},
     "outputs": [
      {
       "output_type": "pyout",
       "prompt_number": 2,
       "text": [
        "13.367098338245874"
       ]
      }
     ],
     "prompt_number": 2
    },
    {
     "cell_type": "code",
     "collapsed": false,
     "input": [
      "for aS in [80., 200., 360., 580., 800.]:\n",
      "    print \"{0:4.0f}  {1:4.1f}  {2:4.1f}\".format( aS, U_over_t(7.0, aS), U_over_t(5.5, aS) )"
     ],
     "language": "python",
     "metadata": {},
     "outputs": [
      {
       "output_type": "stream",
       "stream": "stdout",
       "text": [
        "  80   3.1   1.6\n",
        " 200   7.6   4.1\n",
        " 360  13.7   7.4\n",
        " 580  22.2  11.8\n",
        " 800  30.6  16.3\n"
       ]
      }
     ],
     "prompt_number": 20
    },
    {
     "cell_type": "code",
     "collapsed": false,
     "input": [
      "tInterp(7.)"
     ],
     "language": "python",
     "metadata": {},
     "outputs": [
      {
       "output_type": "pyout",
       "prompt_number": 3,
       "text": [
        "array(0.039536432740995914)"
       ]
      }
     ],
     "prompt_number": 3
    },
    {
     "cell_type": "code",
     "collapsed": false,
     "input": [
      "for v0 in[5.5, 7.0, 20., 25., 32., 33., 40., 50.]:\n",
      "    print \"v0 = {0:4.1f} --> t = {1:10.1f} Hz\".format(v0,tInterp(v0)*29000)"
     ],
     "language": "python",
     "metadata": {},
     "outputs": [
      {
       "output_type": "stream",
       "stream": "stdout",
       "text": [
        "v0 =  5.5 --> t =     1675.8 Hz\n",
        "v0 =  7.0 --> t =     1146.6 Hz\n",
        "v0 = 20.0 --> t =       72.4 Hz\n",
        "v0 = 25.0 --> t =       30.1 Hz\n",
        "v0 = 32.0 --> t =        9.9 Hz\n",
        "v0 = 33.0 --> t =        8.5 Hz\n",
        "v0 = 40.0 --> t =        3.1 Hz\n",
        "v0 = 50.0 --> t =        0.7 Hz\n"
       ]
      }
     ],
     "prompt_number": 5
    },
    {
     "cell_type": "code",
     "collapsed": false,
     "input": [
      "    print wFInterp(5.5)\n",
      "print tInterp(5.5) "
     ],
     "language": "python",
     "metadata": {},
     "outputs": [
      {
       "output_type": "stream",
       "stream": "stdout",
       "text": [
        "11.8662407142\n",
        "0.0577868700057\n"
       ]
      }
     ],
     "prompt_number": 4
    },
    {
     "cell_type": "code",
     "collapsed": false,
     "input": [],
     "language": "python",
     "metadata": {},
     "outputs": []
    }
   ],
   "metadata": {}
  }
 ]
}